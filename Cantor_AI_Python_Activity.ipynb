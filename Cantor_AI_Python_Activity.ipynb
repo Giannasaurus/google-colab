{
  "cells": [
    {
      "cell_type": "markdown",
      "metadata": {
        "colab_type": "text",
        "id": "view-in-github"
      },
      "source": [
        "<a href=\"https://colab.research.google.com/github/Giannasaurus/google-colab/blob/main/Cantor_AI_Python_Activity.ipynb\" target=\"_parent\"><img src=\"https://colab.research.google.com/assets/colab-badge.svg\" alt=\"Open In Colab\"/></a>"
      ]
    },
    {
      "cell_type": "markdown",
      "metadata": {
        "id": "UOzzNeRoN83G"
      },
      "source": [
        "Exercise 1: Calculate the product and sum of two numbers <br>\n",
        "Given two integer numbers, return their product only if the product is ~~greater~~ less than 1000, else return their sum."
      ]
    },
    {
      "cell_type": "code",
      "execution_count": null,
      "metadata": {
        "id": "hrJk3nJsN4YO"
      },
      "outputs": [],
      "source": [
        "num1_str = input(\"Number 1: \")\n",
        "num2_str = input(\"Number 2: \")\n",
        "num1 = int(num1_str)\n",
        "num2 = int(num2_str)\n",
        "\n",
        "product = num1 * num2\n",
        "sum = num1 * num2\n",
        "\n",
        "if product < 1000:\n",
        "  print(f\"The result is {product}\")\n",
        "else:\n",
        "  print(f\"The result is {sum}\")"
      ]
    },
    {
      "cell_type": "markdown",
      "metadata": {
        "id": "Q9UieDxrU7gN"
      },
      "source": [
        "Exercise 2: <br>\n",
        "First, ask employee name, salary, and company name from the user <br>\n",
        "Next, we will assign the input provided by the user to the variables <br>\n",
        "Finally, we will use the `print()` function to display those variables on the screen."
      ]
    },
    {
      "cell_type": "code",
      "execution_count": null,
      "metadata": {
        "id": "mgaoc7z0N8rX"
      },
      "outputs": [],
      "source": [
        "employee_name = input(\"Employee name: \")\n",
        "salary = int(input(\"Salary:\"))\n",
        "company_name = input(\"Company name: \")\n",
        "\n",
        "print(f\"Employee name: {employee_name}\")\n",
        "print(f\"Salary: {salary}\")\n",
        "print(f\"Company name: {company_name}\")"
      ]
    },
    {
      "cell_type": "markdown",
      "metadata": {
        "id": "LcXfI4pDXh-7"
      },
      "source": [
        "Exercise 3: Reverse list in Python <br>\n",
        "Given a list `list1=[100, 200, 300, 400, 500]`, reverse list1"
      ]
    },
    {
      "cell_type": "code",
      "execution_count": null,
      "metadata": {
        "id": "HHdHLqYoXxI0"
      },
      "outputs": [],
      "source": [
        "list1 = [100, 200, 300, 400, 500]\n",
        "list1.reverse();\n",
        "print(list1)"
      ]
    },
    {
      "cell_type": "markdown",
      "metadata": {
        "id": "v2XdX_w-YQOU"
      },
      "source": [
        "Exercise 4: <br>\n",
        "Concatenate two lists in the following order <br>\n",
        "Expected output: <br>\n",
        "['Hello Dear', 'Hello Sir', 'take Dear', 'take Sir']"
      ]
    },
    {
      "cell_type": "code",
      "execution_count": null,
      "metadata": {
        "colab": {
          "base_uri": "https://localhost:8080/"
        },
        "id": "o-MH7A0hYXBz",
        "outputId": "928341b6-6a19-4e5d-f426-e7ee2f44d5b3"
      },
      "outputs": [
        {
          "name": "stdout",
          "output_type": "stream",
          "text": [
            "['Hello Dear', 'Hello Sir', 'take Dear', 'take Sir']\n"
          ]
        }
      ],
      "source": [
        "list1 = ['Hello Dear', 'Hello Sir']\n",
        "list2 = ['take Dear', 'take Sir']\n",
        "joined_list = list1 + list2\n",
        "print(joined_list)"
      ]
    }
  ],
  "metadata": {
    "colab": {
      "authorship_tag": "ABX9TyNGD2EBz53c3gIy5/PJPBaR",
      "include_colab_link": true,
      "provenance": []
    },
    "kernelspec": {
      "display_name": "Python 3",
      "name": "python3"
    },
    "language_info": {
      "name": "python"
    }
  },
  "nbformat": 4,
  "nbformat_minor": 0
}
