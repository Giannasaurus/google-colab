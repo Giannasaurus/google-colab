{
  "nbformat": 4,
  "nbformat_minor": 0,
  "metadata": {
    "colab": {
      "provenance": [],
      "authorship_tag": "ABX9TyNGD2EBz53c3gIy5/PJPBaR",
      "include_colab_link": true
    },
    "kernelspec": {
      "name": "python3",
      "display_name": "Python 3"
    },
    "language_info": {
      "name": "python"
    }
  },
  "cells": [
    {
      "cell_type": "markdown",
      "metadata": {
        "id": "view-in-github",
        "colab_type": "text"
      },
      "source": [
        "<a href=\"https://colab.research.google.com/github/Giannasaurus/google-colab/blob/main/Cantor_AI_Python_Activity.ipynb\" target=\"_parent\"><img src=\"https://colab.research.google.com/assets/colab-badge.svg\" alt=\"Open In Colab\"/></a>"
      ]
    },
    {
      "cell_type": "markdown",
      "source": [
        "Exercise 1: Calculate the product and sum of two numbers <br>\n",
        "Given two integer numbers, return their product only if the product is ~~greater~~ less than 1000, else return their sum."
      ],
      "metadata": {
        "id": "UOzzNeRoN83G"
      }
    },
    {
      "cell_type": "code",
      "execution_count": null,
      "metadata": {
        "id": "hrJk3nJsN4YO"
      },
      "outputs": [],
      "source": [
        "num1_str = input(\"Number 1: \")\n",
        "num2_str = input(\"Number 2: \")\n",
        "num1 = int(num1_str)\n",
        "num2 = int(num2_str)\n",
        "# hello\n",
        "product = num1 * num2\n",
        "\n",
        "if product < 1000:\n",
        "  print(f\"The result is {product}\")\n",
        "else:\n",
        "  print(f\"The result is {num1 + num2}\")"
      ]
    },
    {
      "cell_type": "markdown",
      "source": [
        "Exercise 2: <br>\n",
        "First, ask employee name, salary, and company name from the user <br>\n",
        "Next, we will assign the input provided by the user to the variables <br>\n",
        "Finally, we will use the `print()` function to display those variables on the screen."
      ],
      "metadata": {
        "id": "Q9UieDxrU7gN"
      }
    },
    {
      "cell_type": "code",
      "source": [
        "employee_name = input(\"Employee name: \")\n",
        "salary = input(\"Salary:\")\n",
        "salary = int(salary)\n",
        "company_name = input(\"Company name: \")\n",
        "\n",
        "print(f\"Employee name: {employee_name}\")\n",
        "print(f\"Salary: {salary}\")\n",
        "print(f\"Company name: {company_name}\")"
      ],
      "metadata": {
        "id": "mgaoc7z0N8rX"
      },
      "execution_count": null,
      "outputs": []
    },
    {
      "cell_type": "markdown",
      "source": [
        "Exercise 3: Reverse list in Python <br>\n",
        "Given a list `list1=[100, 200, 300, 400, 500]`, reverse list1"
      ],
      "metadata": {
        "id": "LcXfI4pDXh-7"
      }
    },
    {
      "cell_type": "code",
      "source": [
        "list1=[100, 200, 300, 400, 500]\n",
        "list1.reverse();\n",
        "print(list1)"
      ],
      "metadata": {
        "id": "HHdHLqYoXxI0"
      },
      "execution_count": null,
      "outputs": []
    },
    {
      "cell_type": "markdown",
      "source": [
        "Exercise 4: <br>\n",
        "Concatenate two lists in the following order <br>\n",
        "Expected output: <br>\n",
        "['Hello Dear', 'Hello Sir', 'take Dear', 'take Sir']"
      ],
      "metadata": {
        "id": "v2XdX_w-YQOU"
      }
    },
    {
      "cell_type": "code",
      "source": [
        "list1 = ['Hello Dear', 'Hello Sir']\n",
        "list2 = ['take Dear', 'take Sir']\n",
        "joined_list = list1 + list2\n",
        "print(joined_list)\n",
        "\n",
        "# Expected output:\n",
        "# ['Hello Dear', 'Hello Sir', 'take Dear', 'take Sir']"
      ],
      "metadata": {
        "colab": {
          "base_uri": "https://localhost:8080/"
        },
        "id": "o-MH7A0hYXBz",
        "outputId": "928341b6-6a19-4e5d-f426-e7ee2f44d5b3"
      },
      "execution_count": null,
      "outputs": [
        {
          "output_type": "stream",
          "name": "stdout",
          "text": [
            "['Hello Dear', 'Hello Sir', 'take Dear', 'take Sir']\n"
          ]
        }
      ]
    }
  ]
}